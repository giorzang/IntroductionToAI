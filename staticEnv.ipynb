{
 "cells": [
  {
   "cell_type": "markdown",
   "id": "6d20a960",
   "metadata": {},
   "source": [
    "###  Config"
   ]
  },
  {
   "cell_type": "code",
   "execution_count": 1,
   "id": "64065527",
   "metadata": {},
   "outputs": [
    {
     "name": "stdout",
     "output_type": "stream",
     "text": [
      "Device: cpu\n"
     ]
    }
   ],
   "source": [
    "import torch\n",
    "import torch.nn as nn\n",
    "import torch.optim as optim\n",
    "import torch.nn.functional as F\n",
    "from torch.optim.lr_scheduler import StepLR\n",
    "\n",
    "import random\n",
    "import numpy as np\n",
    "import collections\n",
    "import matplotlib.pyplot as plt\n",
    "from tqdm import tqdm\n",
    "\n",
    "device = torch.device(\"cuda\" if torch.cuda.is_available() else \"cpu\")\n",
    "print(f\"Device: {device}\")"
   ]
  },
  {
   "cell_type": "markdown",
   "id": "47803420",
   "metadata": {},
   "source": [
    "### Knapsack Environment"
   ]
  },
  {
   "cell_type": "code",
   "execution_count": 2,
   "id": "06cfb434",
   "metadata": {},
   "outputs": [],
   "source": [
    "class KnapsackEnv:\n",
    "    def __init__(self):\n",
    "        self.n = 10\n",
    "        self.capacity = 72\n",
    "        self.weights = np.array([11, 37, 57, 78, 18, 62, 85, 15, 33, 85])\n",
    "        self.values = np.array([32, 41, 77, 95, 95, 58, 2, 72, 80, 18])\n",
    "        # # Sort weights/values\n",
    "        # indices = np.argsort(self.weights)[::-1]\n",
    "        # self.weights = self.weights[indices]\n",
    "        # self.values = self.values[indices]\n",
    "\n",
    "    def reset(self):\n",
    "        self.selected = np.zeros(self.n, dtype=int)\n",
    "\n",
    "        self.rem_w = self.capacity\n",
    "        total_value = self.values.sum()\n",
    "\n",
    "        # Ma trận state (n+1 items, 3 features) [selected, value, weight]\n",
    "        self.state = np.zeros((self.n+1, 3), dtype=float)\n",
    "        for i in range(self.n):\n",
    "            self.state[i] = [\n",
    "                0,\n",
    "                self.values[i] / total_value,\n",
    "                self.weights[i] / self.capacity\n",
    "            ]\n",
    "        # Hàng cuối: capacity còn lại (ban đầu normalized = 1)\n",
    "        self.state[self.n] = [0, 1.0, 1.0]\n",
    "\n",
    "        return self.state.flatten().astype(np.float32)\n",
    "\n",
    "    def step(self, action):\n",
    "        i = action\n",
    "        reward = 0.0\n",
    "        done = False\n",
    "\n",
    "        # check valid\n",
    "        if self.selected[i] == 0 and self.weights[i] <= self.rem_w:\n",
    "            self.selected[i] = 1\n",
    "            self.rem_w -= self.weights[i]\n",
    "            reward = float(self.values[i])\n",
    "\n",
    "            # update flag selected\n",
    "            self.state[i, 0] = 1.0\n",
    "            # update remaining capacity\n",
    "            self.state[self.n] = [0, 0.0, self.rem_w / self.capacity]\n",
    "        else:\n",
    "            reward = 0.0\n",
    "\n",
    "        # check done\n",
    "        feasible = False\n",
    "        for j in range(self.n):\n",
    "            if self.selected[j] == 0 and self.weights[j] <= self.rem_w:\n",
    "                feasible = True\n",
    "                break\n",
    "        if not feasible:\n",
    "            done = True\n",
    "\n",
    "        return self.state.flatten().astype(np.float32), reward, done, {}"
   ]
  },
  {
   "cell_type": "markdown",
   "id": "1658af17",
   "metadata": {},
   "source": [
    "### Select action"
   ]
  },
  {
   "cell_type": "code",
   "execution_count": 3,
   "id": "589cee80",
   "metadata": {},
   "outputs": [],
   "source": [
    "def select_action(env, state, q_net, epsilon):\n",
    "    # epsilon-greedy exploration\n",
    "    if random.random() < epsilon:\n",
    "        # explore: chọn ngẫu nhiên trong các action hợp lệ\n",
    "        valid_actions = []\n",
    "        for i in range(env.n):\n",
    "            if env.selected[i] == 0 and env.weights[i] <= env.rem_w:\n",
    "                valid_actions.append(i)\n",
    "        if valid_actions:\n",
    "            return random.choice(valid_actions)\n",
    "        else:\n",
    "            return None # không có action hợp lệ\n",
    "    else:\n",
    "        # exploit: chọn action có Q lớn nhất\n",
    "        state_t = torch.tensor(state, dtype=torch.float32).unsqueeze(0).to(device)\n",
    "        q_values = q_net(state_t).detach().cpu().numpy().squeeze()\n",
    "\n",
    "        # mask: True neu item hop le\n",
    "        mask = np.zeros(env.n, dtype=bool)\n",
    "        for i in range(env.n):\n",
    "            if env.selected[i] == 0 and env.weights[i] <= env.rem_w:\n",
    "                mask[i] = True\n",
    "\n",
    "        # neu khong con action hop le\n",
    "        if not mask.any():\n",
    "            return None\n",
    "        q_values[~mask] = -1e9\n",
    "\n",
    "        # chon action co Q lon nhat\n",
    "        action = int(np.argmax(q_values))\n",
    "        return action"
   ]
  },
  {
   "cell_type": "markdown",
   "id": "e0e7fec8",
   "metadata": {},
   "source": [
    "### Dueling DQN"
   ]
  },
  {
   "cell_type": "code",
   "execution_count": 4,
   "id": "c310f450",
   "metadata": {},
   "outputs": [],
   "source": [
    "class DuelingDQN(nn.Module):\n",
    "    def __init__(self, input_dim, n_actions, hidden_dim=128):\n",
    "        super().__init__()\n",
    "        # phần chung (feature extractor)\n",
    "        self.fc1 = nn.Linear(input_dim, hidden_dim)\n",
    "        self.fc2 = nn.Linear(hidden_dim, hidden_dim)\n",
    "\n",
    "        # value stream\n",
    "        self.v_fc = nn.Linear(hidden_dim, hidden_dim)\n",
    "        self.v_out = nn.Linear(hidden_dim, 1)\n",
    "\n",
    "        # advantage stream\n",
    "        self.a_fc = nn.Linear(hidden_dim, hidden_dim)\n",
    "        self.a_out = nn.Linear(hidden_dim, n_actions)\n",
    "\n",
    "    def forward(self, x):\n",
    "        x = F.relu(self.fc1(x))\n",
    "        x = F.relu(self.fc2(x))\n",
    "\n",
    "        # value branch\n",
    "        v = F.relu(self.v_fc(x))\n",
    "        v = self.v_out(v)  # shape: (batch, 1)\n",
    "\n",
    "        # advantage branch\n",
    "        a = F.relu(self.a_fc(x))\n",
    "        a = self.a_out(a)  # shape: (batch, n_actions)\n",
    "\n",
    "        # combine theo công thức dueling\n",
    "        q = v + a - a.mean(dim=1, keepdim=True)\n",
    "        return q"
   ]
  },
  {
   "cell_type": "markdown",
   "id": "e7e1df62",
   "metadata": {},
   "source": [
    "### Replay Buffer"
   ]
  },
  {
   "cell_type": "code",
   "execution_count": 5,
   "id": "2571a3f8",
   "metadata": {},
   "outputs": [],
   "source": [
    "class ReplayBuffer:\n",
    "    def __init__(self, capacity=100000):\n",
    "        self.buffer = collections.deque(maxlen=capacity)\n",
    "\n",
    "    def add(self, state, action, reward, next_state, done):\n",
    "        self.buffer.append((state, action, reward, next_state, done))\n",
    "\n",
    "    def sample(self, batch_size):\n",
    "        batch = random.sample(self.buffer, batch_size)\n",
    "        states, actions, rewards, next_states, dones = zip(*batch)\n",
    "        return (\n",
    "            np.array(states),\n",
    "            np.array(actions),\n",
    "            np.array(rewards, dtype=np.float32),\n",
    "            np.array(next_states),\n",
    "            np.array(dones, dtype=np.float32),\n",
    "        )\n",
    "\n",
    "    def __len__(self):\n",
    "        return len(self.buffer)"
   ]
  },
  {
   "cell_type": "markdown",
   "id": "26f5dd43",
   "metadata": {},
   "source": [
    "### Train step"
   ]
  },
  {
   "cell_type": "code",
   "execution_count": 6,
   "id": "e30c3883",
   "metadata": {},
   "outputs": [],
   "source": [
    "def train_step(online_net, target_net, buffer, optimizer, batch_size=64, gamma=0.99):\n",
    "    if len(buffer) < batch_size:\n",
    "        return None  # chưa đủ dữ liệu để train\n",
    "\n",
    "    # Sample minibatch\n",
    "    states, actions, rewards, next_states, dones = buffer.sample(batch_size)\n",
    "\n",
    "    # Convert sang tensor\n",
    "    states = torch.tensor(states, dtype=torch.float32).to(device)\n",
    "    actions = torch.tensor(actions, dtype=torch.long).to(device)\n",
    "    rewards = torch.tensor(rewards, dtype=torch.float32).to(device)\n",
    "    next_states = torch.tensor(next_states, dtype=torch.float32).to(device)\n",
    "    dones = torch.tensor(dones, dtype=torch.float32).to(device)\n",
    "\n",
    "    # Q-values cho actions đã chọn\n",
    "    q_values = online_net(states).gather(1, actions.unsqueeze(1)).squeeze(1)\n",
    "\n",
    "    # Double DQN target\n",
    "    with torch.no_grad():\n",
    "        next_actions = online_net(next_states).argmax(dim=1)  # chọn action bằng online_net\n",
    "        next_q = target_net(next_states).gather(1, next_actions.unsqueeze(1)).squeeze(1)\n",
    "        target = rewards + gamma * next_q * (1 - dones)\n",
    "\n",
    "    # Loss = MSE\n",
    "    loss = F.mse_loss(q_values, target)\n",
    "\n",
    "    # Backprop\n",
    "    optimizer.zero_grad()\n",
    "    loss.backward()\n",
    "    optimizer.step()\n",
    "\n",
    "    return loss.item()"
   ]
  },
  {
   "cell_type": "markdown",
   "id": "3a39c639",
   "metadata": {},
   "source": [
    "## Training Model"
   ]
  },
  {
   "cell_type": "code",
   "execution_count": 7,
   "metadata": {},
   "outputs": [
    {
     "name": "stderr",
     "output_type": "stream",
     "text": [
      "Training:   0%|          | 0/200 [00:00<?, ?it/s]/workspaces/IntroductionToAI/env/lib/python3.12/site-packages/torch/optim/lr_scheduler.py:192: UserWarning: Detected call of `lr_scheduler.step()` before `optimizer.step()`. In PyTorch 1.1.0 and later, you should call them in the opposite order: `optimizer.step()` before `lr_scheduler.step()`.  Failure to do this will result in PyTorch skipping the first value of the learning rate schedule. See more details at https://pytorch.org/docs/stable/optim.html#how-to-adjust-learning-rate\n",
      "  warnings.warn(\n",
      "Training: 100%|██████████| 200/200 [00:01<00:00, 149.02it/s]"
     ]
    },
    {
     "name": "stdout",
     "output_type": "stream",
     "text": [
      "Current epsilon = 0.010000\n",
      "Current LR = 0.000013\n",
      "\n",
      "Training done.\n"
     ]
    },
    {
     "name": "stderr",
     "output_type": "stream",
     "text": [
      "\n"
     ]
    }
   ],
   "source": [
    "# Hyperparameters\n",
    "n_items = 10\n",
    "episodes = 200        # để test, bài báo dùng vài ngàn\n",
    "buffer_capacity = 5000\n",
    "batch_size = 8\n",
    "gamma = 0.99\n",
    "lr = 1e-2\n",
    "# target_update_freq = 100\n",
    "epsilon_start = 1.0\n",
    "epsilon_end = 0.01\n",
    "epsilon_decay = 0.975  # decay factor\n",
    "\n",
    "# Env + networks\n",
    "env = KnapsackEnv()\n",
    "input_dim = (n_items+1) * 3\n",
    "n_actions = n_items\n",
    "\n",
    "online_net = DuelingDQN(input_dim, n_actions, hidden_dim=16).to(device)\n",
    "target_net = DuelingDQN(input_dim, n_actions, hidden_dim=16).to(device)\n",
    "target_net.load_state_dict(online_net.state_dict())\n",
    "\n",
    "optimizer = optim.Adam(online_net.parameters(), lr=lr)\n",
    "scheduler = StepLR(optimizer, step_size=4, gamma=0.875)\n",
    "buffer = ReplayBuffer(capacity=buffer_capacity)\n",
    "\n",
    "epsilon = epsilon_start\n",
    "\n",
    "# Training\n",
    "all_rewards = []\n",
    "for ep in tqdm(range(episodes), desc=\"Training\"):\n",
    "    state = env.reset()\n",
    "    done = False\n",
    "    total_reward = 0\n",
    "\n",
    "    while not done:\n",
    "        action = select_action(env, state, online_net, epsilon) # dùng epsilon-greedy\n",
    "        if action is None:\n",
    "            break\n",
    "        next_state, reward, done, _ = env.step(action)\n",
    "        buffer.add(state, action, reward, next_state, done)\n",
    "        state = next_state\n",
    "        total_reward += reward\n",
    "\n",
    "        # train step\n",
    "        loss = train_step(online_net, target_net, buffer, optimizer,\n",
    "                          batch_size=batch_size, gamma=gamma)\n",
    "\n",
    "    all_rewards.append(total_reward)\n",
    "    scheduler.step()\n",
    "    target_net.load_state_dict(online_net.state_dict())\n",
    "\n",
    "    # Epsilon decay\n",
    "    epsilon = max(epsilon_end, epsilon * epsilon_decay)\n",
    "\n",
    "print(f\"Current epsilon = {epsilon:.6f}\")\n",
    "print(f\"Current LR = {scheduler.get_last_lr()[0]:.6f}\")\n",
    "print(\"\\nTraining done.\")"
   ]
  },
  {
   "cell_type": "markdown",
   "id": "33843102",
   "metadata": {},
   "source": [
    "## Evaluating"
   ]
  },
  {
   "cell_type": "code",
   "execution_count": 8,
   "id": "0c57b833",
   "metadata": {},
   "outputs": [],
   "source": [
    "def knapsack_dp(weights, values, capacity):\n",
    "    n = len(weights)\n",
    "    dp = [0] * (capacity + 1)\n",
    "    for i in range(n):\n",
    "        w, v = weights[i], values[i]\n",
    "        for cap in range(capacity, w-1, -1):\n",
    "            dp[cap] = max(dp[cap], dp[cap-w] + v)\n",
    "    return max(dp)\n",
    "\n",
    "def knapsack_greedy(weights, values, capacity):\n",
    "    n = len(weights)\n",
    "    ratio = [v / w for w, v in zip(weights, values)]\n",
    "    indices = sorted(range(n), key=lambda k: ratio[k], reverse=True)\n",
    "    total_value = 0\n",
    "    total_weight = 0\n",
    "    for i in indices:\n",
    "        if total_weight + weights[i] <= capacity:\n",
    "            total_value += values[i]\n",
    "            total_weight += weights[i]\n",
    "    return total_value\n",
    "\n",
    "def evaluate_graph(env, model, n_eval=100):\n",
    "    dp_results = []\n",
    "    greedy_results = []\n",
    "    agent_results = []\n",
    "    for _ in tqdm(range(n_eval), desc=\"Evaluating\"):\n",
    "        state = env.reset()\n",
    "        done = False\n",
    "        total_reward = 0\n",
    "        while not done:\n",
    "            action = select_action(env, state, model, epsilon=0)\n",
    "            if action is None:\n",
    "                break\n",
    "            state, reward, done, _ = env.step(action)\n",
    "            total_reward += reward\n",
    "        dp_result = knapsack_dp(env.weights, env.values, env.capacity)\n",
    "        greedy_result = knapsack_greedy(env.weights, env.values, env.capacity)\n",
    "        dp_results.append(dp_result)\n",
    "        greedy_results.append(greedy_result)\n",
    "        agent_results.append(total_reward)\n",
    "    return dp_results, greedy_results, agent_results"
   ]
  },
  {
   "cell_type": "code",
   "execution_count": 9,
   "id": "905a14d4",
   "metadata": {},
   "outputs": [
    {
     "name": "stderr",
     "output_type": "stream",
     "text": [
      "Evaluating: 100%|██████████| 200/200 [00:00<00:00, 1041.42it/s]\n"
     ]
    },
    {
     "data": {
      "image/png": "[encoded data removed]",
      "text/plain": [
       "<Figure size 1200x500 with 1 Axes>"
      ]
     },
     "metadata": {},
     "output_type": "display_data"
    }
   ],
   "source": [
    "dp_results, greedy_results, agent_results = evaluate_graph(env, online_net, n_eval=episodes)\n",
    "\n",
    "# Làm mịn bằng trung bình trượt (moving average)\n",
    "window = 4  # số episode để làm mịn\n",
    "smoothed_rewards = np.convolve(all_rewards, np.ones(window)/window, mode='valid')\n",
    "\n",
    "plt.figure(figsize=(12,5))\n",
    "plt.plot(dp_results, label=\"DP\")\n",
    "plt.plot(greedy_results, label=\"Greedy\")\n",
    "plt.plot(all_rewards, color='lightgray', label='Raw Reward', alpha=0.5)\n",
    "plt.plot(np.arange(window-1, len(all_rewards)), smoothed_rewards, color='blue', label=f'Smoothed Reward (window={window})')\n",
    "plt.xlabel(\"Episode\")\n",
    "plt.ylabel(\"Reward\")\n",
    "plt.title(\"Learning Curve\")\n",
    "plt.legend()\n",
    "plt.show()"
   ]
  }
 ],
 "metadata": {
  "kernelspec": {
   "display_name": "env",
   "language": "python",
   "name": "python3"
  },
  "language_info": {
   "codemirror_mode": {
    "name": "ipython",
    "version": 3
   },
   "file_extension": ".py",
   "mimetype": "text/x-python",
   "name": "python",
   "nbconvert_exporter": "python",
   "pygments_lexer": "ipython3",
   "version": "3.12.1"
  }
 },
 "nbformat": 4,
 "nbformat_minor": 5
}
